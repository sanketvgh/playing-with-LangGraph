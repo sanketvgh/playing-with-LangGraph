{
 "cells": [
  {
   "cell_type": "code",
   "execution_count": 46,
   "metadata": {},
   "outputs": [],
   "source": [
    "from typing import Annotated, TypedDict\n",
    "from langgraph.graph import StateGraph\n",
    "from langgraph.errors import NodeInterrupt\n",
    "from langgraph.checkpoint.memory import MemorySaver\n",
    "\n",
    "reducer = lambda left, right: left + right\n",
    "\n",
    "class State(TypedDict):\n",
    "    inputs: Annotated[list[str], reducer]\n",
    "\n",
    "def node_b(x):\n",
    "    if(x['inputs'][-1] == 'Hello'):\n",
    "        raise NodeInterrupt(f\"Node B interrupted with {x['inputs'][-1]}\")\n",
    "    else:\n",
    "        return { \"inputs\": ['Not modified by B'] }\n",
    "\n",
    "def node_c(x):\n",
    "    return { \"inputs\": ['Modified by C'] }\n",
    "\n",
    "\n",
    "builder = StateGraph(State)\n",
    "builder.add_node(\"A\", lambda x: { \"inputs\": ['Modified by A'] })\n",
    "builder.add_node(\"B\", node_b)\n",
    "builder.add_node(\"C\", node_c)\n",
    "builder.set_entry_point(\"A\")\n",
    "builder.add_edge(\"A\", \"B\")\n",
    "builder.add_edge(\"B\", \"C\")\n",
    "builder.set_finish_point(\"C\")\n",
    "\n",
    "memory = MemorySaver()\n",
    "graph = builder.compile(interrupt_after=['A'], checkpointer=memory)"
   ]
  },
  {
   "cell_type": "code",
   "execution_count": 41,
   "metadata": {},
   "outputs": [
    {
     "data": {
      "image/png": "[encoded data removed]",
      "text/plain": [
       "<IPython.core.display.Image object>"
      ]
     },
     "metadata": {},
     "output_type": "display_data"
    }
   ],
   "source": [
    "from IPython.display import display, Image\n",
    "\n",
    "display(Image(graph.get_graph().draw_mermaid_png()))"
   ]
  },
  {
   "cell_type": "code",
   "execution_count": 51,
   "metadata": {},
   "outputs": [
    {
     "data": {
      "text/plain": [
       "{'inputs': ['Hello',\n",
       "  'Modified by A',\n",
       "  'Hello',\n",
       "  'Modified by A',\n",
       "  'Hello',\n",
       "  'Modified by A',\n",
       "  'Hello',\n",
       "  'Modified by A',\n",
       "  'Hello',\n",
       "  'Modified by A']}"
      ]
     },
     "execution_count": 51,
     "metadata": {},
     "output_type": "execute_result"
    }
   ],
   "source": [
    "config = { 'configurable': { 'thread_id': 'dynamic_breakpoints' } }\n",
    "\n",
    "graph.invoke({\"inputs\": ['Hello']}, config=config)"
   ]
  },
  {
   "cell_type": "code",
   "execution_count": 56,
   "metadata": {},
   "outputs": [],
   "source": [
    "values = graph.get_state(config=config).values"
   ]
  },
  {
   "cell_type": "code",
   "execution_count": 57,
   "metadata": {},
   "outputs": [
    {
     "name": "stdout",
     "output_type": "stream",
     "text": [
      "{'B': {'inputs': ['Not modified by B']}}\n",
      "{'C': {'inputs': ['Modified by C']}}\n"
     ]
    }
   ],
   "source": [
    "for event in graph.stream(None, config=config):\n",
    "    print(event)\n"
   ]
  }
 ],
 "metadata": {
  "kernelspec": {
   "display_name": ".venv",
   "language": "python",
   "name": "python3"
  },
  "language_info": {
   "codemirror_mode": {
    "name": "ipython",
    "version": 3
   },
   "file_extension": ".py",
   "mimetype": "text/x-python",
   "name": "python",
   "nbconvert_exporter": "python",
   "pygments_lexer": "ipython3",
   "version": "3.13.2"
  }
 },
 "nbformat": 4,
 "nbformat_minor": 2
}
