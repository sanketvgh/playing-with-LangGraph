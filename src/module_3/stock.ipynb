{
 "cells": [
  {
   "cell_type": "code",
   "execution_count": 3,
   "metadata": {},
   "outputs": [
    {
     "data": {
      "text/plain": [
       "True"
      ]
     },
     "execution_count": 3,
     "metadata": {},
     "output_type": "execute_result"
    }
   ],
   "source": [
    "from langchain_core.tools import tool\n",
    "import httpx\n",
    "import os\n",
    "from dotenv import load_dotenv\n",
    "\n",
    "load_dotenv()"
   ]
  },
  {
   "cell_type": "code",
   "execution_count": 76,
   "metadata": {},
   "outputs": [],
   "source": [
    "\n",
    "\n",
    "API_KEY = ''\n",
    "\n",
    "@tool\n",
    "def is_valid_stock_symbol(symbol: str) -> bool:\n",
    "    \"\"\"\n",
    "    Checks the stock symbol is valid or not\n",
    "    Args:\n",
    "        symbol: The stock symbol to validate.\n",
    "    Returns:\n",
    "        True if the symbol is valid, False otherwise.\n",
    "    \"\"\"\n",
    "    url = \"https://www.alphavantage.co/query\"\n",
    "    params = {\n",
    "        \"function\": \"SYMBOL_SEARCH\",\n",
    "        \"keywords\": symbol,\n",
    "        \"apikey\": API_KEY\n",
    "    }\n",
    "\n",
    "    try:\n",
    "        response = httpx.get(url, params=params, timeout=5)\n",
    "        response.raise_for_status()\n",
    "        data = response.json()\n",
    "\n",
    "        # Check if the API returned matches for the given symbol\n",
    "        if \"bestMatches\" in data and any(match[\"1. symbol\"] == symbol for match in data[\"bestMatches\"]):\n",
    "            return True\n",
    "        \n",
    "    except httpx.HTTPStatusError:\n",
    "        print(\"Error: Invalid response from API.\")\n",
    "    except httpx.RequestError:\n",
    "        print(\"Error: Unable to connect to API.\")\n",
    "\n",
    "    return False\n"
   ]
  },
  {
   "cell_type": "code",
   "execution_count": 77,
   "metadata": {},
   "outputs": [
    {
     "name": "stdout",
     "output_type": "stream",
     "text": [
      "{'Error Message': 'the parameter apikey is invalid or missing. Please claim your free API key on (https://www.alphavantage.co/support/#api-key). It should take less than 20 seconds.'}\n",
      "None\n"
     ]
    }
   ],
   "source": [
    "import httpx\n",
    "\n",
    "@tool\n",
    "def get_stock_price(symbol: str) -> float:\n",
    "    \"\"\"\n",
    "    Fetches the current stock price for a given symbol using Alpha Vantage.\n",
    "    Args:\n",
    "        symbol: The stock symbol to fetch the price for.\n",
    "    Returns:\n",
    "        The latest stock price as a float, or raises an exception.\n",
    "    \"\"\"\n",
    "    url = \"https://www.alphavantage.co/query\"\n",
    "    params = {\n",
    "        \"function\": \"GLOBAL_QUOTE\",\n",
    "        \"symbol\": symbol,\n",
    "        \"apikey\": API_KEY\n",
    "    }\n",
    "\n",
    " \n",
    "    response = httpx.get(url, params=params, timeout=5)\n",
    "    response.raise_for_status()\n",
    "    data = response.json()\n",
    "\n",
    "    print(data)\n",
    "\n",
    "    # Extract stock price\n",
    "    if \"Global Quote\" in data and \"05. price\" in data[\"Global Quote\"]:\n",
    "        return float(data[\"Global Quote\"][\"05. price\"])\n",
    "        \n",
    "    \n",
    "\n",
    "# Example usage\n",
    "print(get_stock_price(\"AAPL\"))  # Fetches Apple's stock price\n"
   ]
  },
  {
   "cell_type": "code",
   "execution_count": 18,
   "metadata": {},
   "outputs": [],
   "source": [
    "from langchain_ollama import ChatOllama\n",
    "\n",
    "tools = [get_stock_price]\n",
    "llm = ChatOllama(model=\"qwen2\", base_url=\"http://localhost:11434\")\n",
    "llm_with_tools = llm.bind_tools(tools)"
   ]
  },
  {
   "cell_type": "code",
   "execution_count": 37,
   "metadata": {},
   "outputs": [],
   "source": [
    "from langgraph.graph.message import MessageGraph\n",
    "from langgraph.prebuilt import ToolNode, tools_condition\n",
    "from langgraph.checkpoint.memory import MemorySaver\n",
    "from langchain_core.messages import SystemMessage\n",
    "\n",
    "system_message = SystemMessage(content=(\n",
    "        \"You are a stock market assistant that provides real-time stock prices, \"\n",
    "        \"market trends, and basic financial data. Respond concisely with accurate \"\n",
    "        \"information about stock prices. If a stock symbol is invalid, inform the user.\"\n",
    "        \"your answer should be short\"\n",
    "    ))\n",
    "\n",
    "builder = MessageGraph()\n",
    "\n",
    "builder.add_node(\"ai\", lambda state: llm_with_tools.invoke([system_message] + state))\n",
    "builder.add_node(\"tools\", ToolNode(tools))\n",
    "\n",
    "builder.set_entry_point(\"ai\")\n",
    "builder.add_conditional_edges('ai', tools_condition)\n",
    "builder.add_edge('tools', 'ai')\n",
    "\n",
    "memory = MemorySaver()\n",
    "compiled_graph = builder.compile(checkpointer=memory)"
   ]
  },
  {
   "cell_type": "code",
   "execution_count": 38,
   "metadata": {},
   "outputs": [
    {
     "data": {
      "image/png": "[encoded data removed]",
      "text/plain": [
       "<IPython.core.display.Image object>"
      ]
     },
     "metadata": {},
     "output_type": "display_data"
    }
   ],
   "source": [
    "from IPython.display import Image\n",
    "\n",
    "display(Image(compiled_graph.get_graph(xray=True).draw_mermaid_png()))"
   ]
  },
  {
   "cell_type": "code",
   "execution_count": 67,
   "metadata": {},
   "outputs": [],
   "source": [
    "from time import strftime\n",
    "thread_id = strftime(f\"stock-1-{strftime('%Y-%m-%d')}\")"
   ]
  },
  {
   "cell_type": "code",
   "execution_count": 69,
   "metadata": {},
   "outputs": [],
   "source": [
    "from langchain_core.runnables import RunnableConfig\n",
    "\n",
    "config: RunnableConfig = {\"configurable\": {\"thread_id\": thread_id}}"
   ]
  },
  {
   "cell_type": "code",
   "execution_count": 70,
   "metadata": {},
   "outputs": [
    {
     "data": {
      "text/plain": [
       "[HumanMessage(content='What is stock price of IBM?', additional_kwargs={}, response_metadata={}, id='e2dafb1d-a808-4197-a9ec-6c6e1754f7f2'),\n",
       " AIMessage(content='', additional_kwargs={}, response_metadata={'model': 'qwen2', 'created_at': '2025-03-08T14:48:39.648761Z', 'done': True, 'done_reason': 'stop', 'total_duration': 2686234700, 'load_duration': 67946100, 'prompt_eval_count': 231, 'prompt_eval_duration': 340000000, 'eval_count': 26, 'eval_duration': 2271000000, 'message': Message(role='assistant', content='', images=None, tool_calls=None)}, id='run-17c1b4d8-ed98-4e6c-8adc-889d36b99e7a-0', tool_calls=[{'name': 'get_stock_price', 'args': {'symbol': 'IBM'}, 'id': 'ab77c965-3696-4c07-9214-bce66a51fa54', 'type': 'tool_call'}], usage_metadata={'input_tokens': 231, 'output_tokens': 26, 'total_tokens': 257}),\n",
       " ToolMessage(content=\"Error: Exception('Error: Unable to fetch stock price')\\n Please fix your mistakes.\", name='get_stock_price', id='ef2eafe3-e9b6-48ac-83b2-6708b0e68050', tool_call_id='ab77c965-3696-4c07-9214-bce66a51fa54', status='error'),\n",
       " AIMessage(content=\"I'm unable to fetch the current stock price for IBM at the moment. Please try again later or check if the symbol is correctly typed.\", additional_kwargs={}, response_metadata={'model': 'qwen2', 'created_at': '2025-03-08T14:48:43.8717262Z', 'done': True, 'done_reason': 'stop', 'total_duration': 3036157200, 'load_duration': 57796300, 'prompt_eval_count': 290, 'prompt_eval_duration': 323000000, 'eval_count': 29, 'eval_duration': 2634000000, 'message': Message(role='assistant', content=\"I'm unable to fetch the current stock price for IBM at the moment. Please try again later or check if the symbol is correctly typed.\", images=None, tool_calls=None)}, id='run-9c02d038-bebf-498e-a8d4-cf496eaffdae-0', usage_metadata={'input_tokens': 290, 'output_tokens': 29, 'total_tokens': 319})]"
      ]
     },
     "execution_count": 70,
     "metadata": {},
     "output_type": "execute_result"
    }
   ],
   "source": [
    "from langchain_core.messages import HumanMessage\n",
    "my_message = [HumanMessage(content=\"What is stock price of IBM?\")]\n",
    "\n",
    "compiled_graph.invoke(my_message, config=config)"
   ]
  },
  {
   "cell_type": "code",
   "execution_count": 44,
   "metadata": {},
   "outputs": [
    {
     "data": {
      "text/plain": [
       "StateSnapshot(values=[HumanMessage(content='What is stock price of IBM?', additional_kwargs={}, response_metadata={}, id='d453c55c-8f4e-4710-84db-788150c58b08'), AIMessage(content='', additional_kwargs={}, response_metadata={'model': 'qwen2', 'created_at': '2025-03-08T13:56:25.4271337Z', 'done': True, 'done_reason': 'stop', 'total_duration': 12527776500, 'load_duration': 7259718600, 'prompt_eval_count': 231, 'prompt_eval_duration': 1327000000, 'eval_count': 26, 'eval_duration': 2969000000, 'message': {'role': 'assistant', 'content': '', 'images': None, 'tool_calls': None}}, id='run-8fe96623-a572-4a8d-aa0e-ae4f6b44f9de-0', tool_calls=[{'name': 'get_stock_price', 'args': {'symbol': 'IBM'}, 'id': '17c1750e-2747-4e46-ae95-cb5ae2295644', 'type': 'tool_call'}], usage_metadata={'input_tokens': 231, 'output_tokens': 26, 'total_tokens': 257}), ToolMessage(content='261.54', name='get_stock_price', id='c0b37da0-9079-48f3-9f4f-7bba949ad5c3', tool_call_id='17c1750e-2747-4e46-ae95-cb5ae2295644'), AIMessage(content='The current stock price of IBM is $261.54.', additional_kwargs={}, response_metadata={'model': 'qwen2', 'created_at': '2025-03-08T13:56:28.9954385Z', 'done': True, 'done_reason': 'stop', 'total_duration': 1975115300, 'load_duration': 69041000, 'prompt_eval_count': 280, 'prompt_eval_duration': 457000000, 'eval_count': 16, 'eval_duration': 1421000000, 'message': {'role': 'assistant', 'content': 'The current stock price of IBM is $261.54.', 'images': None, 'tool_calls': None}}, id='run-92d351f1-6033-49fb-9386-4b8f27121366-0', usage_metadata={'input_tokens': 280, 'output_tokens': 16, 'total_tokens': 296})], next=(), config={'configurable': {'thread_id': 'stock-2025-03-08', 'checkpoint_ns': '', 'checkpoint_id': '1effc252-23a7-62d9-8003-4997482d5558'}}, metadata={'source': 'loop', 'writes': {'ai': AIMessage(content='The current stock price of IBM is $261.54.', additional_kwargs={}, response_metadata={'model': 'qwen2', 'created_at': '2025-03-08T13:56:28.9954385Z', 'done': True, 'done_reason': 'stop', 'total_duration': 1975115300, 'load_duration': 69041000, 'prompt_eval_count': 280, 'prompt_eval_duration': 457000000, 'eval_count': 16, 'eval_duration': 1421000000, 'message': {'role': 'assistant', 'content': 'The current stock price of IBM is $261.54.', 'images': None, 'tool_calls': None}}, id='run-92d351f1-6033-49fb-9386-4b8f27121366-0', usage_metadata={'input_tokens': 280, 'output_tokens': 16, 'total_tokens': 296})}, 'thread_id': 'stock-2025-03-08', 'step': 3, 'parents': {}}, created_at='2025-03-08T13:56:29.001943+00:00', parent_config={'configurable': {'thread_id': 'stock-2025-03-08', 'checkpoint_ns': '', 'checkpoint_id': '1effc252-109f-68aa-8002-5d9dc62a435c'}}, tasks=())"
      ]
     },
     "execution_count": 44,
     "metadata": {},
     "output_type": "execute_result"
    }
   ],
   "source": [
    "state = compiled_graph.get_state(config=config)\n",
    "state"
   ]
  },
  {
   "cell_type": "code",
   "execution_count": 48,
   "metadata": {},
   "outputs": [
    {
     "data": {
      "text/plain": [
       "[StateSnapshot(values=[HumanMessage(content='What is stock price of IBM?', additional_kwargs={}, response_metadata={}, id='d453c55c-8f4e-4710-84db-788150c58b08'), AIMessage(content='', additional_kwargs={}, response_metadata={'model': 'qwen2', 'created_at': '2025-03-08T13:56:25.4271337Z', 'done': True, 'done_reason': 'stop', 'total_duration': 12527776500, 'load_duration': 7259718600, 'prompt_eval_count': 231, 'prompt_eval_duration': 1327000000, 'eval_count': 26, 'eval_duration': 2969000000, 'message': {'role': 'assistant', 'content': '', 'images': None, 'tool_calls': None}}, id='run-8fe96623-a572-4a8d-aa0e-ae4f6b44f9de-0', tool_calls=[{'name': 'get_stock_price', 'args': {'symbol': 'IBM'}, 'id': '17c1750e-2747-4e46-ae95-cb5ae2295644', 'type': 'tool_call'}], usage_metadata={'input_tokens': 231, 'output_tokens': 26, 'total_tokens': 257}), ToolMessage(content='261.54', name='get_stock_price', id='c0b37da0-9079-48f3-9f4f-7bba949ad5c3', tool_call_id='17c1750e-2747-4e46-ae95-cb5ae2295644'), AIMessage(content='The current stock price of IBM is $261.54.', additional_kwargs={}, response_metadata={'model': 'qwen2', 'created_at': '2025-03-08T13:56:28.9954385Z', 'done': True, 'done_reason': 'stop', 'total_duration': 1975115300, 'load_duration': 69041000, 'prompt_eval_count': 280, 'prompt_eval_duration': 457000000, 'eval_count': 16, 'eval_duration': 1421000000, 'message': {'role': 'assistant', 'content': 'The current stock price of IBM is $261.54.', 'images': None, 'tool_calls': None}}, id='run-92d351f1-6033-49fb-9386-4b8f27121366-0', usage_metadata={'input_tokens': 280, 'output_tokens': 16, 'total_tokens': 296})], next=(), config={'configurable': {'thread_id': 'stock-2025-03-08', 'checkpoint_ns': '', 'checkpoint_id': '1effc252-23a7-62d9-8003-4997482d5558'}}, metadata={'source': 'loop', 'writes': {'ai': AIMessage(content='The current stock price of IBM is $261.54.', additional_kwargs={}, response_metadata={'model': 'qwen2', 'created_at': '2025-03-08T13:56:28.9954385Z', 'done': True, 'done_reason': 'stop', 'total_duration': 1975115300, 'load_duration': 69041000, 'prompt_eval_count': 280, 'prompt_eval_duration': 457000000, 'eval_count': 16, 'eval_duration': 1421000000, 'message': {'role': 'assistant', 'content': 'The current stock price of IBM is $261.54.', 'images': None, 'tool_calls': None}}, id='run-92d351f1-6033-49fb-9386-4b8f27121366-0', usage_metadata={'input_tokens': 280, 'output_tokens': 16, 'total_tokens': 296})}, 'thread_id': 'stock-2025-03-08', 'step': 3, 'parents': {}}, created_at='2025-03-08T13:56:29.001943+00:00', parent_config={'configurable': {'thread_id': 'stock-2025-03-08', 'checkpoint_ns': '', 'checkpoint_id': '1effc252-109f-68aa-8002-5d9dc62a435c'}}, tasks=()),\n",
       " StateSnapshot(values=[HumanMessage(content='What is stock price of IBM?', additional_kwargs={}, response_metadata={}, id='d453c55c-8f4e-4710-84db-788150c58b08'), AIMessage(content='', additional_kwargs={}, response_metadata={'model': 'qwen2', 'created_at': '2025-03-08T13:56:25.4271337Z', 'done': True, 'done_reason': 'stop', 'total_duration': 12527776500, 'load_duration': 7259718600, 'prompt_eval_count': 231, 'prompt_eval_duration': 1327000000, 'eval_count': 26, 'eval_duration': 2969000000, 'message': {'role': 'assistant', 'content': '', 'images': None, 'tool_calls': None}}, id='run-8fe96623-a572-4a8d-aa0e-ae4f6b44f9de-0', tool_calls=[{'name': 'get_stock_price', 'args': {'symbol': 'IBM'}, 'id': '17c1750e-2747-4e46-ae95-cb5ae2295644', 'type': 'tool_call'}], usage_metadata={'input_tokens': 231, 'output_tokens': 26, 'total_tokens': 257}), ToolMessage(content='261.54', name='get_stock_price', id='c0b37da0-9079-48f3-9f4f-7bba949ad5c3', tool_call_id='17c1750e-2747-4e46-ae95-cb5ae2295644')], next=('ai',), config={'configurable': {'thread_id': 'stock-2025-03-08', 'checkpoint_ns': '', 'checkpoint_id': '1effc252-109f-68aa-8002-5d9dc62a435c'}}, metadata={'source': 'loop', 'writes': {'tools': [ToolMessage(content='261.54', name='get_stock_price', id='c0b37da0-9079-48f3-9f4f-7bba949ad5c3', tool_call_id='17c1750e-2747-4e46-ae95-cb5ae2295644')]}, 'thread_id': 'stock-2025-03-08', 'step': 2, 'parents': {}}, created_at='2025-03-08T13:56:27.006509+00:00', parent_config={'configurable': {'thread_id': 'stock-2025-03-08', 'checkpoint_ns': '', 'checkpoint_id': '1effc252-01ba-65e4-8001-0793e59c1939'}}, tasks=(PregelTask(id='9423e56f-5dc2-0e1f-70b4-15f9c22e1fbb', name='ai', path=('__pregel_pull', 'ai'), error=None, interrupts=(), state=None, result=AIMessage(content='The current stock price of IBM is $261.54.', additional_kwargs={}, response_metadata={'model': 'qwen2', 'created_at': '2025-03-08T13:56:28.9954385Z', 'done': True, 'done_reason': 'stop', 'total_duration': 1975115300, 'load_duration': 69041000, 'prompt_eval_count': 280, 'prompt_eval_duration': 457000000, 'eval_count': 16, 'eval_duration': 1421000000, 'message': {'role': 'assistant', 'content': 'The current stock price of IBM is $261.54.', 'images': None, 'tool_calls': None}}, id='run-92d351f1-6033-49fb-9386-4b8f27121366-0', usage_metadata={'input_tokens': 280, 'output_tokens': 16, 'total_tokens': 296})),)),\n",
       " StateSnapshot(values=[HumanMessage(content='What is stock price of IBM?', additional_kwargs={}, response_metadata={}, id='d453c55c-8f4e-4710-84db-788150c58b08'), AIMessage(content='', additional_kwargs={}, response_metadata={'model': 'qwen2', 'created_at': '2025-03-08T13:56:25.4271337Z', 'done': True, 'done_reason': 'stop', 'total_duration': 12527776500, 'load_duration': 7259718600, 'prompt_eval_count': 231, 'prompt_eval_duration': 1327000000, 'eval_count': 26, 'eval_duration': 2969000000, 'message': {'role': 'assistant', 'content': '', 'images': None, 'tool_calls': None}}, id='run-8fe96623-a572-4a8d-aa0e-ae4f6b44f9de-0', tool_calls=[{'name': 'get_stock_price', 'args': {'symbol': 'IBM'}, 'id': '17c1750e-2747-4e46-ae95-cb5ae2295644', 'type': 'tool_call'}], usage_metadata={'input_tokens': 231, 'output_tokens': 26, 'total_tokens': 257})], next=('tools',), config={'configurable': {'thread_id': 'stock-2025-03-08', 'checkpoint_ns': '', 'checkpoint_id': '1effc252-01ba-65e4-8001-0793e59c1939'}}, metadata={'source': 'loop', 'writes': {'ai': AIMessage(content='', additional_kwargs={}, response_metadata={'model': 'qwen2', 'created_at': '2025-03-08T13:56:25.4271337Z', 'done': True, 'done_reason': 'stop', 'total_duration': 12527776500, 'load_duration': 7259718600, 'prompt_eval_count': 231, 'prompt_eval_duration': 1327000000, 'eval_count': 26, 'eval_duration': 2969000000, 'message': {'role': 'assistant', 'content': '', 'images': None, 'tool_calls': None}}, id='run-8fe96623-a572-4a8d-aa0e-ae4f6b44f9de-0', tool_calls=[{'name': 'get_stock_price', 'args': {'symbol': 'IBM'}, 'id': '17c1750e-2747-4e46-ae95-cb5ae2295644', 'type': 'tool_call'}], usage_metadata={'input_tokens': 231, 'output_tokens': 26, 'total_tokens': 257})}, 'thread_id': 'stock-2025-03-08', 'step': 1, 'parents': {}}, created_at='2025-03-08T13:56:25.444669+00:00', parent_config={'configurable': {'thread_id': 'stock-2025-03-08', 'checkpoint_ns': '', 'checkpoint_id': '1effc251-7676-6aaf-8000-94977013e14d'}}, tasks=(PregelTask(id='346f34a3-cee7-eb9b-5f0d-ec7cb4ad0bda', name='tools', path=('__pregel_pull', 'tools'), error=None, interrupts=(), state=None, result=[ToolMessage(content='261.54', name='get_stock_price', id='c0b37da0-9079-48f3-9f4f-7bba949ad5c3', tool_call_id='17c1750e-2747-4e46-ae95-cb5ae2295644')]),)),\n",
       " StateSnapshot(values=[HumanMessage(content='What is stock price of IBM?', additional_kwargs={}, response_metadata={}, id='d453c55c-8f4e-4710-84db-788150c58b08')], next=('ai',), config={'configurable': {'thread_id': 'stock-2025-03-08', 'checkpoint_ns': '', 'checkpoint_id': '1effc251-7676-6aaf-8000-94977013e14d'}}, metadata={'source': 'loop', 'writes': None, 'thread_id': 'stock-2025-03-08', 'step': 0, 'parents': {}}, created_at='2025-03-08T13:56:10.841757+00:00', parent_config={'configurable': {'thread_id': 'stock-2025-03-08', 'checkpoint_ns': '', 'checkpoint_id': '1effc251-766d-6e24-bfff-5e1421c47754'}}, tasks=(PregelTask(id='78b997ec-ca6e-2d14-d113-82c5567a150a', name='ai', path=('__pregel_pull', 'ai'), error=None, interrupts=(), state=None, result=AIMessage(content='', additional_kwargs={}, response_metadata={'model': 'qwen2', 'created_at': '2025-03-08T13:56:25.4271337Z', 'done': True, 'done_reason': 'stop', 'total_duration': 12527776500, 'load_duration': 7259718600, 'prompt_eval_count': 231, 'prompt_eval_duration': 1327000000, 'eval_count': 26, 'eval_duration': 2969000000, 'message': {'role': 'assistant', 'content': '', 'images': None, 'tool_calls': None}}, id='run-8fe96623-a572-4a8d-aa0e-ae4f6b44f9de-0', tool_calls=[{'name': 'get_stock_price', 'args': {'symbol': 'IBM'}, 'id': '17c1750e-2747-4e46-ae95-cb5ae2295644', 'type': 'tool_call'}], usage_metadata={'input_tokens': 231, 'output_tokens': 26, 'total_tokens': 257})),)),\n",
       " StateSnapshot(values=[], next=('__start__',), config={'configurable': {'thread_id': 'stock-2025-03-08', 'checkpoint_ns': '', 'checkpoint_id': '1effc251-766d-6e24-bfff-5e1421c47754'}}, metadata={'source': 'input', 'writes': {'__start__': [HumanMessage(content='What is stock price of IBM?', additional_kwargs={}, response_metadata={})]}, 'thread_id': 'stock-2025-03-08', 'step': -1, 'parents': {}}, created_at='2025-03-08T13:56:10.838159+00:00', parent_config=None, tasks=(PregelTask(id='3b3ad161-daf8-6405-e081-2db1bbfdae82', name='__start__', path=('__pregel_pull', '__start__'), error=None, interrupts=(), state=None, result=[HumanMessage(content='What is stock price of IBM?', additional_kwargs={}, response_metadata={}, id='d453c55c-8f4e-4710-84db-788150c58b08')]),))]"
      ]
     },
     "execution_count": 48,
     "metadata": {},
     "output_type": "execute_result"
    }
   ],
   "source": [
    "history = list(compiled_graph.get_state_history(config=config))\n",
    "history"
   ]
  },
  {
   "cell_type": "markdown",
   "metadata": {},
   "source": [
    "#Replaying"
   ]
  },
  {
   "cell_type": "code",
   "execution_count": 50,
   "metadata": {},
   "outputs": [
    {
     "data": {
      "text/plain": [
       "StateSnapshot(values=[HumanMessage(content='What is stock price of IBM?', additional_kwargs={}, response_metadata={}, id='d453c55c-8f4e-4710-84db-788150c58b08')], next=('ai',), config={'configurable': {'thread_id': 'stock-2025-03-08', 'checkpoint_ns': '', 'checkpoint_id': '1effc251-7676-6aaf-8000-94977013e14d'}}, metadata={'source': 'loop', 'writes': None, 'thread_id': 'stock-2025-03-08', 'step': 0, 'parents': {}}, created_at='2025-03-08T13:56:10.841757+00:00', parent_config={'configurable': {'thread_id': 'stock-2025-03-08', 'checkpoint_ns': '', 'checkpoint_id': '1effc251-766d-6e24-bfff-5e1421c47754'}}, tasks=(PregelTask(id='78b997ec-ca6e-2d14-d113-82c5567a150a', name='ai', path=('__pregel_pull', 'ai'), error=None, interrupts=(), state=None, result=AIMessage(content='', additional_kwargs={}, response_metadata={'model': 'qwen2', 'created_at': '2025-03-08T13:56:25.4271337Z', 'done': True, 'done_reason': 'stop', 'total_duration': 12527776500, 'load_duration': 7259718600, 'prompt_eval_count': 231, 'prompt_eval_duration': 1327000000, 'eval_count': 26, 'eval_duration': 2969000000, 'message': {'role': 'assistant', 'content': '', 'images': None, 'tool_calls': None}}, id='run-8fe96623-a572-4a8d-aa0e-ae4f6b44f9de-0', tool_calls=[{'name': 'get_stock_price', 'args': {'symbol': 'IBM'}, 'id': '17c1750e-2747-4e46-ae95-cb5ae2295644', 'type': 'tool_call'}], usage_metadata={'input_tokens': 231, 'output_tokens': 26, 'total_tokens': 257})),))"
      ]
     },
     "execution_count": 50,
     "metadata": {},
     "output_type": "execute_result"
    }
   ],
   "source": [
    "to_replay = history[-2]\n",
    "to_replay"
   ]
  },
  {
   "cell_type": "code",
   "execution_count": 51,
   "metadata": {},
   "outputs": [
    {
     "data": {
      "text/plain": [
       "5"
      ]
     },
     "execution_count": 51,
     "metadata": {},
     "output_type": "execute_result"
    }
   ],
   "source": [
    "len(history)"
   ]
  },
  {
   "cell_type": "code",
   "execution_count": 54,
   "metadata": {},
   "outputs": [
    {
     "data": {
      "text/plain": [
       "[HumanMessage(content='What is stock price of IBM?', additional_kwargs={}, response_metadata={}, id='d453c55c-8f4e-4710-84db-788150c58b08'),\n",
       " AIMessage(content='', additional_kwargs={}, response_metadata={'model': 'qwen2', 'created_at': '2025-03-08T14:06:58.0624576Z', 'done': True, 'done_reason': 'stop', 'total_duration': 11058452300, 'load_duration': 6772190600, 'prompt_eval_count': 231, 'prompt_eval_duration': 1038000000, 'eval_count': 26, 'eval_duration': 2494000000, 'message': Message(role='assistant', content='', images=None, tool_calls=None)}, id='run-716cdd31-6ee8-4877-9d13-a4140c630bd5-0', tool_calls=[{'name': 'get_stock_price', 'args': {'symbol': 'IBM'}, 'id': 'de0c9781-37cc-41b9-ab69-fec7cd53c42d', 'type': 'tool_call'}], usage_metadata={'input_tokens': 231, 'output_tokens': 26, 'total_tokens': 257}),\n",
       " ToolMessage(content='261.54', name='get_stock_price', id='25e35dce-57c2-406e-b892-7a2999d261c5', tool_call_id='de0c9781-37cc-41b9-ab69-fec7cd53c42d'),\n",
       " AIMessage(content='The current stock price of IBM is $261.54.', additional_kwargs={}, response_metadata={'model': 'qwen2', 'created_at': '2025-03-08T14:07:02.2003853Z', 'done': True, 'done_reason': 'stop', 'total_duration': 1924580900, 'load_duration': 68874500, 'prompt_eval_count': 280, 'prompt_eval_duration': 526000000, 'eval_count': 16, 'eval_duration': 1309000000, 'message': Message(role='assistant', content='The current stock price of IBM is $261.54.', images=None, tool_calls=None)}, id='run-10efa340-a59d-4366-b378-7a56e7e46c56-0', usage_metadata={'input_tokens': 280, 'output_tokens': 16, 'total_tokens': 296})]"
      ]
     },
     "execution_count": 54,
     "metadata": {},
     "output_type": "execute_result"
    }
   ],
   "source": [
    "compiled_graph.invoke(None, config=to_replay.config)"
   ]
  },
  {
   "cell_type": "code",
   "execution_count": 57,
   "metadata": {},
   "outputs": [
    {
     "data": {
      "text/plain": [
       "[StateSnapshot(values=[HumanMessage(content='What is stock price of IBM?', additional_kwargs={}, response_metadata={}, id='d453c55c-8f4e-4710-84db-788150c58b08'), AIMessage(content='', additional_kwargs={}, response_metadata={'model': 'qwen2', 'created_at': '2025-03-08T14:06:58.0624576Z', 'done': True, 'done_reason': 'stop', 'total_duration': 11058452300, 'load_duration': 6772190600, 'prompt_eval_count': 231, 'prompt_eval_duration': 1038000000, 'eval_count': 26, 'eval_duration': 2494000000, 'message': {'role': 'assistant', 'content': '', 'images': None, 'tool_calls': None}}, id='run-716cdd31-6ee8-4877-9d13-a4140c630bd5-0', tool_calls=[{'name': 'get_stock_price', 'args': {'symbol': 'IBM'}, 'id': 'de0c9781-37cc-41b9-ab69-fec7cd53c42d', 'type': 'tool_call'}], usage_metadata={'input_tokens': 231, 'output_tokens': 26, 'total_tokens': 257}), ToolMessage(content='261.54', name='get_stock_price', id='25e35dce-57c2-406e-b892-7a2999d261c5', tool_call_id='de0c9781-37cc-41b9-ab69-fec7cd53c42d'), AIMessage(content='The current stock price of IBM is $261.54.', additional_kwargs={}, response_metadata={'model': 'qwen2', 'created_at': '2025-03-08T14:07:02.2003853Z', 'done': True, 'done_reason': 'stop', 'total_duration': 1924580900, 'load_duration': 68874500, 'prompt_eval_count': 280, 'prompt_eval_duration': 526000000, 'eval_count': 16, 'eval_duration': 1309000000, 'message': {'role': 'assistant', 'content': 'The current stock price of IBM is $261.54.', 'images': None, 'tool_calls': None}}, id='run-10efa340-a59d-4366-b378-7a56e7e46c56-0', usage_metadata={'input_tokens': 280, 'output_tokens': 16, 'total_tokens': 296})], next=(), config={'configurable': {'thread_id': 'stock-2025-03-08', 'checkpoint_ns': '', 'checkpoint_id': '1effc269-ba68-655c-8003-be623e6a9061'}}, metadata={'source': 'loop', 'writes': {'ai': AIMessage(content='The current stock price of IBM is $261.54.', additional_kwargs={}, response_metadata={'model': 'qwen2', 'created_at': '2025-03-08T14:07:02.2003853Z', 'done': True, 'done_reason': 'stop', 'total_duration': 1924580900, 'load_duration': 68874500, 'prompt_eval_count': 280, 'prompt_eval_duration': 526000000, 'eval_count': 16, 'eval_duration': 1309000000, 'message': {'role': 'assistant', 'content': 'The current stock price of IBM is $261.54.', 'images': None, 'tool_calls': None}}, id='run-10efa340-a59d-4366-b378-7a56e7e46c56-0', usage_metadata={'input_tokens': 280, 'output_tokens': 16, 'total_tokens': 296})}, 'thread_id': 'stock-2025-03-08', 'checkpoint_ns': '', 'checkpoint_id': '1effc251-7676-6aaf-8000-94977013e14d', 'step': 3, 'parents': {}}, created_at='2025-03-08T14:07:02.211253+00:00', parent_config={'configurable': {'thread_id': 'stock-2025-03-08', 'checkpoint_ns': '', 'checkpoint_id': '1effc269-a7da-674e-8002-08a6f3d4fe49'}}, tasks=()),\n",
       " StateSnapshot(values=[HumanMessage(content='What is stock price of IBM?', additional_kwargs={}, response_metadata={}, id='d453c55c-8f4e-4710-84db-788150c58b08'), AIMessage(content='', additional_kwargs={}, response_metadata={'model': 'qwen2', 'created_at': '2025-03-08T14:06:58.0624576Z', 'done': True, 'done_reason': 'stop', 'total_duration': 11058452300, 'load_duration': 6772190600, 'prompt_eval_count': 231, 'prompt_eval_duration': 1038000000, 'eval_count': 26, 'eval_duration': 2494000000, 'message': {'role': 'assistant', 'content': '', 'images': None, 'tool_calls': None}}, id='run-716cdd31-6ee8-4877-9d13-a4140c630bd5-0', tool_calls=[{'name': 'get_stock_price', 'args': {'symbol': 'IBM'}, 'id': 'de0c9781-37cc-41b9-ab69-fec7cd53c42d', 'type': 'tool_call'}], usage_metadata={'input_tokens': 231, 'output_tokens': 26, 'total_tokens': 257}), ToolMessage(content='261.54', name='get_stock_price', id='25e35dce-57c2-406e-b892-7a2999d261c5', tool_call_id='de0c9781-37cc-41b9-ab69-fec7cd53c42d')], next=('ai',), config={'configurable': {'thread_id': 'stock-2025-03-08', 'checkpoint_ns': '', 'checkpoint_id': '1effc269-a7da-674e-8002-08a6f3d4fe49'}}, metadata={'source': 'loop', 'writes': {'tools': [ToolMessage(content='261.54', name='get_stock_price', id='25e35dce-57c2-406e-b892-7a2999d261c5', tool_call_id='de0c9781-37cc-41b9-ab69-fec7cd53c42d')]}, 'thread_id': 'stock-2025-03-08', 'checkpoint_ns': '', 'checkpoint_id': '1effc251-7676-6aaf-8000-94977013e14d', 'step': 2, 'parents': {}}, created_at='2025-03-08T14:07:00.265704+00:00', parent_config={'configurable': {'thread_id': 'stock-2025-03-08', 'checkpoint_ns': '', 'checkpoint_id': '1effc269-92ec-654a-8001-e59a80ac2cfd'}}, tasks=(PregelTask(id='8ab48a4d-1ce1-339e-48a6-f01d94d63fd1', name='ai', path=('__pregel_pull', 'ai'), error=None, interrupts=(), state=None, result=AIMessage(content='The current stock price of IBM is $261.54.', additional_kwargs={}, response_metadata={'model': 'qwen2', 'created_at': '2025-03-08T14:07:02.2003853Z', 'done': True, 'done_reason': 'stop', 'total_duration': 1924580900, 'load_duration': 68874500, 'prompt_eval_count': 280, 'prompt_eval_duration': 526000000, 'eval_count': 16, 'eval_duration': 1309000000, 'message': {'role': 'assistant', 'content': 'The current stock price of IBM is $261.54.', 'images': None, 'tool_calls': None}}, id='run-10efa340-a59d-4366-b378-7a56e7e46c56-0', usage_metadata={'input_tokens': 280, 'output_tokens': 16, 'total_tokens': 296})),)),\n",
       " StateSnapshot(values=[HumanMessage(content='What is stock price of IBM?', additional_kwargs={}, response_metadata={}, id='d453c55c-8f4e-4710-84db-788150c58b08'), AIMessage(content='', additional_kwargs={}, response_metadata={'model': 'qwen2', 'created_at': '2025-03-08T14:06:58.0624576Z', 'done': True, 'done_reason': 'stop', 'total_duration': 11058452300, 'load_duration': 6772190600, 'prompt_eval_count': 231, 'prompt_eval_duration': 1038000000, 'eval_count': 26, 'eval_duration': 2494000000, 'message': {'role': 'assistant', 'content': '', 'images': None, 'tool_calls': None}}, id='run-716cdd31-6ee8-4877-9d13-a4140c630bd5-0', tool_calls=[{'name': 'get_stock_price', 'args': {'symbol': 'IBM'}, 'id': 'de0c9781-37cc-41b9-ab69-fec7cd53c42d', 'type': 'tool_call'}], usage_metadata={'input_tokens': 231, 'output_tokens': 26, 'total_tokens': 257})], next=('tools',), config={'configurable': {'thread_id': 'stock-2025-03-08', 'checkpoint_ns': '', 'checkpoint_id': '1effc269-92ec-654a-8001-e59a80ac2cfd'}}, metadata={'source': 'loop', 'writes': {'ai': AIMessage(content='', additional_kwargs={}, response_metadata={'model': 'qwen2', 'created_at': '2025-03-08T14:06:58.0624576Z', 'done': True, 'done_reason': 'stop', 'total_duration': 11058452300, 'load_duration': 6772190600, 'prompt_eval_count': 231, 'prompt_eval_duration': 1038000000, 'eval_count': 26, 'eval_duration': 2494000000, 'message': {'role': 'assistant', 'content': '', 'images': None, 'tool_calls': None}}, id='run-716cdd31-6ee8-4877-9d13-a4140c630bd5-0', tool_calls=[{'name': 'get_stock_price', 'args': {'symbol': 'IBM'}, 'id': 'de0c9781-37cc-41b9-ab69-fec7cd53c42d', 'type': 'tool_call'}], usage_metadata={'input_tokens': 231, 'output_tokens': 26, 'total_tokens': 257})}, 'thread_id': 'stock-2025-03-08', 'checkpoint_ns': '', 'checkpoint_id': '1effc251-7676-6aaf-8000-94977013e14d', 'step': 1, 'parents': {}}, created_at='2025-03-08T14:06:58.071023+00:00', parent_config={'configurable': {'thread_id': 'stock-2025-03-08', 'checkpoint_ns': '', 'checkpoint_id': '1effc251-7676-6aaf-8000-94977013e14d'}}, tasks=(PregelTask(id='6c537835-5c75-c876-28eb-679eddc5689c', name='tools', path=('__pregel_pull', 'tools'), error=None, interrupts=(), state=None, result=[ToolMessage(content='261.54', name='get_stock_price', id='25e35dce-57c2-406e-b892-7a2999d261c5', tool_call_id='de0c9781-37cc-41b9-ab69-fec7cd53c42d')]),)),\n",
       " StateSnapshot(values=[HumanMessage(content='What is stock price of IBM?', additional_kwargs={}, response_metadata={}, id='d453c55c-8f4e-4710-84db-788150c58b08'), AIMessage(content='', additional_kwargs={}, response_metadata={'model': 'qwen2', 'created_at': '2025-03-08T13:56:25.4271337Z', 'done': True, 'done_reason': 'stop', 'total_duration': 12527776500, 'load_duration': 7259718600, 'prompt_eval_count': 231, 'prompt_eval_duration': 1327000000, 'eval_count': 26, 'eval_duration': 2969000000, 'message': {'role': 'assistant', 'content': '', 'images': None, 'tool_calls': None}}, id='run-8fe96623-a572-4a8d-aa0e-ae4f6b44f9de-0', tool_calls=[{'name': 'get_stock_price', 'args': {'symbol': 'IBM'}, 'id': '17c1750e-2747-4e46-ae95-cb5ae2295644', 'type': 'tool_call'}], usage_metadata={'input_tokens': 231, 'output_tokens': 26, 'total_tokens': 257}), ToolMessage(content='261.54', name='get_stock_price', id='c0b37da0-9079-48f3-9f4f-7bba949ad5c3', tool_call_id='17c1750e-2747-4e46-ae95-cb5ae2295644'), AIMessage(content='The current stock price of IBM is $261.54.', additional_kwargs={}, response_metadata={'model': 'qwen2', 'created_at': '2025-03-08T13:56:28.9954385Z', 'done': True, 'done_reason': 'stop', 'total_duration': 1975115300, 'load_duration': 69041000, 'prompt_eval_count': 280, 'prompt_eval_duration': 457000000, 'eval_count': 16, 'eval_duration': 1421000000, 'message': {'role': 'assistant', 'content': 'The current stock price of IBM is $261.54.', 'images': None, 'tool_calls': None}}, id='run-92d351f1-6033-49fb-9386-4b8f27121366-0', usage_metadata={'input_tokens': 280, 'output_tokens': 16, 'total_tokens': 296})], next=(), config={'configurable': {'thread_id': 'stock-2025-03-08', 'checkpoint_ns': '', 'checkpoint_id': '1effc252-23a7-62d9-8003-4997482d5558'}}, metadata={'source': 'loop', 'writes': {'ai': AIMessage(content='The current stock price of IBM is $261.54.', additional_kwargs={}, response_metadata={'model': 'qwen2', 'created_at': '2025-03-08T13:56:28.9954385Z', 'done': True, 'done_reason': 'stop', 'total_duration': 1975115300, 'load_duration': 69041000, 'prompt_eval_count': 280, 'prompt_eval_duration': 457000000, 'eval_count': 16, 'eval_duration': 1421000000, 'message': {'role': 'assistant', 'content': 'The current stock price of IBM is $261.54.', 'images': None, 'tool_calls': None}}, id='run-92d351f1-6033-49fb-9386-4b8f27121366-0', usage_metadata={'input_tokens': 280, 'output_tokens': 16, 'total_tokens': 296})}, 'thread_id': 'stock-2025-03-08', 'step': 3, 'parents': {}}, created_at='2025-03-08T13:56:29.001943+00:00', parent_config={'configurable': {'thread_id': 'stock-2025-03-08', 'checkpoint_ns': '', 'checkpoint_id': '1effc252-109f-68aa-8002-5d9dc62a435c'}}, tasks=()),\n",
       " StateSnapshot(values=[HumanMessage(content='What is stock price of IBM?', additional_kwargs={}, response_metadata={}, id='d453c55c-8f4e-4710-84db-788150c58b08'), AIMessage(content='', additional_kwargs={}, response_metadata={'model': 'qwen2', 'created_at': '2025-03-08T13:56:25.4271337Z', 'done': True, 'done_reason': 'stop', 'total_duration': 12527776500, 'load_duration': 7259718600, 'prompt_eval_count': 231, 'prompt_eval_duration': 1327000000, 'eval_count': 26, 'eval_duration': 2969000000, 'message': {'role': 'assistant', 'content': '', 'images': None, 'tool_calls': None}}, id='run-8fe96623-a572-4a8d-aa0e-ae4f6b44f9de-0', tool_calls=[{'name': 'get_stock_price', 'args': {'symbol': 'IBM'}, 'id': '17c1750e-2747-4e46-ae95-cb5ae2295644', 'type': 'tool_call'}], usage_metadata={'input_tokens': 231, 'output_tokens': 26, 'total_tokens': 257}), ToolMessage(content='261.54', name='get_stock_price', id='c0b37da0-9079-48f3-9f4f-7bba949ad5c3', tool_call_id='17c1750e-2747-4e46-ae95-cb5ae2295644')], next=('ai',), config={'configurable': {'thread_id': 'stock-2025-03-08', 'checkpoint_ns': '', 'checkpoint_id': '1effc252-109f-68aa-8002-5d9dc62a435c'}}, metadata={'source': 'loop', 'writes': {'tools': [ToolMessage(content='261.54', name='get_stock_price', id='c0b37da0-9079-48f3-9f4f-7bba949ad5c3', tool_call_id='17c1750e-2747-4e46-ae95-cb5ae2295644')]}, 'thread_id': 'stock-2025-03-08', 'step': 2, 'parents': {}}, created_at='2025-03-08T13:56:27.006509+00:00', parent_config={'configurable': {'thread_id': 'stock-2025-03-08', 'checkpoint_ns': '', 'checkpoint_id': '1effc252-01ba-65e4-8001-0793e59c1939'}}, tasks=(PregelTask(id='9423e56f-5dc2-0e1f-70b4-15f9c22e1fbb', name='ai', path=('__pregel_pull', 'ai'), error=None, interrupts=(), state=None, result=AIMessage(content='The current stock price of IBM is $261.54.', additional_kwargs={}, response_metadata={'model': 'qwen2', 'created_at': '2025-03-08T13:56:28.9954385Z', 'done': True, 'done_reason': 'stop', 'total_duration': 1975115300, 'load_duration': 69041000, 'prompt_eval_count': 280, 'prompt_eval_duration': 457000000, 'eval_count': 16, 'eval_duration': 1421000000, 'message': {'role': 'assistant', 'content': 'The current stock price of IBM is $261.54.', 'images': None, 'tool_calls': None}}, id='run-92d351f1-6033-49fb-9386-4b8f27121366-0', usage_metadata={'input_tokens': 280, 'output_tokens': 16, 'total_tokens': 296})),)),\n",
       " StateSnapshot(values=[HumanMessage(content='What is stock price of IBM?', additional_kwargs={}, response_metadata={}, id='d453c55c-8f4e-4710-84db-788150c58b08'), AIMessage(content='', additional_kwargs={}, response_metadata={'model': 'qwen2', 'created_at': '2025-03-08T13:56:25.4271337Z', 'done': True, 'done_reason': 'stop', 'total_duration': 12527776500, 'load_duration': 7259718600, 'prompt_eval_count': 231, 'prompt_eval_duration': 1327000000, 'eval_count': 26, 'eval_duration': 2969000000, 'message': {'role': 'assistant', 'content': '', 'images': None, 'tool_calls': None}}, id='run-8fe96623-a572-4a8d-aa0e-ae4f6b44f9de-0', tool_calls=[{'name': 'get_stock_price', 'args': {'symbol': 'IBM'}, 'id': '17c1750e-2747-4e46-ae95-cb5ae2295644', 'type': 'tool_call'}], usage_metadata={'input_tokens': 231, 'output_tokens': 26, 'total_tokens': 257})], next=('tools',), config={'configurable': {'thread_id': 'stock-2025-03-08', 'checkpoint_ns': '', 'checkpoint_id': '1effc252-01ba-65e4-8001-0793e59c1939'}}, metadata={'source': 'loop', 'writes': {'ai': AIMessage(content='', additional_kwargs={}, response_metadata={'model': 'qwen2', 'created_at': '2025-03-08T13:56:25.4271337Z', 'done': True, 'done_reason': 'stop', 'total_duration': 12527776500, 'load_duration': 7259718600, 'prompt_eval_count': 231, 'prompt_eval_duration': 1327000000, 'eval_count': 26, 'eval_duration': 2969000000, 'message': {'role': 'assistant', 'content': '', 'images': None, 'tool_calls': None}}, id='run-8fe96623-a572-4a8d-aa0e-ae4f6b44f9de-0', tool_calls=[{'name': 'get_stock_price', 'args': {'symbol': 'IBM'}, 'id': '17c1750e-2747-4e46-ae95-cb5ae2295644', 'type': 'tool_call'}], usage_metadata={'input_tokens': 231, 'output_tokens': 26, 'total_tokens': 257})}, 'thread_id': 'stock-2025-03-08', 'step': 1, 'parents': {}}, created_at='2025-03-08T13:56:25.444669+00:00', parent_config={'configurable': {'thread_id': 'stock-2025-03-08', 'checkpoint_ns': '', 'checkpoint_id': '1effc251-7676-6aaf-8000-94977013e14d'}}, tasks=(PregelTask(id='346f34a3-cee7-eb9b-5f0d-ec7cb4ad0bda', name='tools', path=('__pregel_pull', 'tools'), error=None, interrupts=(), state=None, result=[ToolMessage(content='261.54', name='get_stock_price', id='c0b37da0-9079-48f3-9f4f-7bba949ad5c3', tool_call_id='17c1750e-2747-4e46-ae95-cb5ae2295644')]),)),\n",
       " StateSnapshot(values=[HumanMessage(content='What is stock price of IBM?', additional_kwargs={}, response_metadata={}, id='d453c55c-8f4e-4710-84db-788150c58b08')], next=('ai',), config={'configurable': {'thread_id': 'stock-2025-03-08', 'checkpoint_ns': '', 'checkpoint_id': '1effc251-7676-6aaf-8000-94977013e14d'}}, metadata={'source': 'loop', 'writes': None, 'thread_id': 'stock-2025-03-08', 'step': 0, 'parents': {}}, created_at='2025-03-08T13:56:10.841757+00:00', parent_config={'configurable': {'thread_id': 'stock-2025-03-08', 'checkpoint_ns': '', 'checkpoint_id': '1effc251-766d-6e24-bfff-5e1421c47754'}}, tasks=(PregelTask(id='78b997ec-ca6e-2d14-d113-82c5567a150a', name='ai', path=('__pregel_pull', 'ai'), error=None, interrupts=(), state=None, result=AIMessage(content='', additional_kwargs={}, response_metadata={'model': 'qwen2', 'created_at': '2025-03-08T13:56:25.4271337Z', 'done': True, 'done_reason': 'stop', 'total_duration': 12527776500, 'load_duration': 7259718600, 'prompt_eval_count': 231, 'prompt_eval_duration': 1327000000, 'eval_count': 26, 'eval_duration': 2969000000, 'message': {'role': 'assistant', 'content': '', 'images': None, 'tool_calls': None}}, id='run-8fe96623-a572-4a8d-aa0e-ae4f6b44f9de-0', tool_calls=[{'name': 'get_stock_price', 'args': {'symbol': 'IBM'}, 'id': '17c1750e-2747-4e46-ae95-cb5ae2295644', 'type': 'tool_call'}], usage_metadata={'input_tokens': 231, 'output_tokens': 26, 'total_tokens': 257})),)),\n",
       " StateSnapshot(values=[], next=('__start__',), config={'configurable': {'thread_id': 'stock-2025-03-08', 'checkpoint_ns': '', 'checkpoint_id': '1effc251-766d-6e24-bfff-5e1421c47754'}}, metadata={'source': 'input', 'writes': {'__start__': [HumanMessage(content='What is stock price of IBM?', additional_kwargs={}, response_metadata={})]}, 'thread_id': 'stock-2025-03-08', 'step': -1, 'parents': {}}, created_at='2025-03-08T13:56:10.838159+00:00', parent_config=None, tasks=(PregelTask(id='3b3ad161-daf8-6405-e081-2db1bbfdae82', name='__start__', path=('__pregel_pull', '__start__'), error=None, interrupts=(), state=None, result=[HumanMessage(content='What is stock price of IBM?', additional_kwargs={}, response_metadata={}, id='d453c55c-8f4e-4710-84db-788150c58b08')]),))]"
      ]
     },
     "execution_count": 57,
     "metadata": {},
     "output_type": "execute_result"
    }
   ],
   "source": [
    "history = list(compiled_graph.get_state_history(config=config))\n",
    "history\n",
    "\n"
   ]
  },
  {
   "cell_type": "code",
   "execution_count": 59,
   "metadata": {},
   "outputs": [
    {
     "data": {
      "text/plain": [
       "8"
      ]
     },
     "execution_count": 59,
     "metadata": {},
     "output_type": "execute_result"
    }
   ],
   "source": [
    "len(history)\n"
   ]
  },
  {
   "cell_type": "code",
   "execution_count": 61,
   "metadata": {},
   "outputs": [
    {
     "data": {
      "text/plain": [
       "StateSnapshot(values=[HumanMessage(content='What is stock price of IBM?', additional_kwargs={}, response_metadata={}, id='d453c55c-8f4e-4710-84db-788150c58b08')], next=('ai',), config={'configurable': {'thread_id': 'stock-2025-03-08', 'checkpoint_ns': '', 'checkpoint_id': '1effc251-7676-6aaf-8000-94977013e14d'}}, metadata={'source': 'loop', 'writes': None, 'thread_id': 'stock-2025-03-08', 'step': 0, 'parents': {}}, created_at='2025-03-08T13:56:10.841757+00:00', parent_config={'configurable': {'thread_id': 'stock-2025-03-08', 'checkpoint_ns': '', 'checkpoint_id': '1effc251-766d-6e24-bfff-5e1421c47754'}}, tasks=(PregelTask(id='78b997ec-ca6e-2d14-d113-82c5567a150a', name='ai', path=('__pregel_pull', 'ai'), error=None, interrupts=(), state=None, result=AIMessage(content='', additional_kwargs={}, response_metadata={'model': 'qwen2', 'created_at': '2025-03-08T13:56:25.4271337Z', 'done': True, 'done_reason': 'stop', 'total_duration': 12527776500, 'load_duration': 7259718600, 'prompt_eval_count': 231, 'prompt_eval_duration': 1327000000, 'eval_count': 26, 'eval_duration': 2969000000, 'message': {'role': 'assistant', 'content': '', 'images': None, 'tool_calls': None}}, id='run-8fe96623-a572-4a8d-aa0e-ae4f6b44f9de-0', tool_calls=[{'name': 'get_stock_price', 'args': {'symbol': 'IBM'}, 'id': '17c1750e-2747-4e46-ae95-cb5ae2295644', 'type': 'tool_call'}], usage_metadata={'input_tokens': 231, 'output_tokens': 26, 'total_tokens': 257})),))"
      ]
     },
     "execution_count": 61,
     "metadata": {},
     "output_type": "execute_result"
    }
   ],
   "source": [
    "to_forking = history[-2]\n",
    "to_forking\n"
   ]
  },
  {
   "cell_type": "code",
   "execution_count": 66,
   "metadata": {},
   "outputs": [
    {
     "data": {
      "text/plain": [
       "{'configurable': {'thread_id': 'stock-2025-03-08',\n",
       "  'checkpoint_ns': '',\n",
       "  'checkpoint_id': '1effc2c3-dab5-6743-8001-43099205346c'}}"
      ]
     },
     "execution_count": 66,
     "metadata": {},
     "output_type": "execute_result"
    }
   ],
   "source": [
    "compiled_graph.update_state(to_forking.config, [HumanMessage(content=\"What is stock price of NVDA?\", id=to_forking.values[-1].id)])"
   ]
  },
  {
   "cell_type": "code",
   "execution_count": null,
   "metadata": {},
   "outputs": [],
   "source": []
  }
 ],
 "metadata": {
  "kernelspec": {
   "display_name": ".venv",
   "language": "python",
   "name": "python3"
  },
  "language_info": {
   "codemirror_mode": {
    "name": "ipython",
    "version": 3
   },
   "file_extension": ".py",
   "mimetype": "text/x-python",
   "name": "python",
   "nbconvert_exporter": "python",
   "pygments_lexer": "ipython3",
   "version": "3.13.2"
  }
 },
 "nbformat": 4,
 "nbformat_minor": 2
}
