{
 "cells": [
  {
   "cell_type": "code",
   "execution_count": 4,
   "metadata": {},
   "outputs": [],
   "source": [
    "import os\n",
    "from dotenv import load_dotenv\n",
    "load_dotenv()\n",
    "\n",
    "key = os.getenv(\"SUPABASE_KEY\")\n",
    "url = os.getenv(\"SUPABASE_URL\")"
   ]
  },
  {
   "cell_type": "code",
   "execution_count": 6,
   "metadata": {},
   "outputs": [],
   "source": [
    "from pydantic import BaseModel\n",
    "from typing import Optional\n",
    "\n",
    "class Todo(BaseModel):\n",
    "    id: int\n",
    "    title: Optional[str] = None\n",
    "    completed: bool = False"
   ]
  },
  {
   "cell_type": "code",
   "execution_count": 10,
   "metadata": {},
   "outputs": [],
   "source": [
    "from supabase import create_client, Client\n",
    "from langchain_core.tools import tool\n",
    "from typing import Union\n",
    "\n",
    "supabase: Client = create_client(url, key)\n",
    "\n",
    "@tool\n",
    "def create_todo(title: str) -> Union[Todo, None]:\n",
    "    \"\"\"\n",
    "    Create a new todo item\n",
    "    Args:\n",
    "        title: The title of the todo item\n",
    "    Returns:\n",
    "        The Todo object or None if the todo is not created\n",
    "    \"\"\"\n",
    "    response = supabase.table(\"todo\").insert({\"title\": title}).execute()\n",
    "    return Todo(**response.data[0])\n",
    "\n",
    "@tool\n",
    "def delete_by_id(id: int) -> bool:\n",
    "    \"\"\"\n",
    "    Delete a todo item by id\n",
    "    Args:\n",
    "        id: The id of the todo item\n",
    "    Returns:\n",
    "        True if the todo item is deleted, False otherwise\n",
    "    \"\"\"\n",
    "\n",
    "    response = supabase.table(\"todo\").delete().eq(\"id\", id).execute()\n",
    "    return response.data is not None\n",
    "\n",
    "tools = [create_todo, delete_by_id]"
   ]
  },
  {
   "cell_type": "code",
   "execution_count": 11,
   "metadata": {},
   "outputs": [],
   "source": [
    "from langchain_ollama import ChatOllama\n",
    "\n",
    "\n",
    "llm = ChatOllama(model=\"qwen2\", base_url=\"http://localhost:11434\")\n",
    "llm_with_tools = llm.bind_tools(tools)"
   ]
  },
  {
   "cell_type": "code",
   "execution_count": 30,
   "metadata": {},
   "outputs": [],
   "source": [
    "from langgraph.graph.message import MessageGraph\n",
    "from langgraph.prebuilt import ToolNode, tools_condition\n",
    "from langgraph.checkpoint.memory import MemorySaver\n",
    "from langchain_core.messages import SystemMessage\n",
    "\n",
    "system_message = [SystemMessage(content=\"Your name is Todoist bot. You can create, delete and list todos. your response should be fun and engaging\")]\n",
    "\n",
    "builder = MessageGraph()\n",
    "\n",
    "builder.add_node(\"ai\", lambda state: llm_with_tools.invoke(system_message + state))\n",
    "builder.add_node(\"tools\", ToolNode(tools))\n",
    "\n",
    "builder.set_entry_point(\"ai\")\n",
    "builder.add_conditional_edges('ai', tools_condition)\n",
    "builder.add_edge('tools', 'ai')\n",
    "\n",
    "memory = MemorySaver()\n",
    "compiled_graph = builder.compile(interrupt_before=['ai'], checkpointer=memory)"
   ]
  },
  {
   "cell_type": "code",
   "execution_count": 31,
   "metadata": {},
   "outputs": [
    {
     "data": {
      "image/png": "[encoded data removed]",
      "text/plain": [
       "<IPython.core.display.Image object>"
      ]
     },
     "metadata": {},
     "output_type": "display_data"
    }
   ],
   "source": [
    "from IPython.display import Image\n",
    "\n",
    "display(Image(compiled_graph.get_graph(xray=True).draw_mermaid_png()))"
   ]
  },
  {
   "cell_type": "code",
   "execution_count": 32,
   "metadata": {},
   "outputs": [],
   "source": [
    "from time import strftime\n",
    "thread_id = strftime(f\"TodoistBot-1-{strftime('%Y-%m-%d')}\")"
   ]
  },
  {
   "cell_type": "code",
   "execution_count": 33,
   "metadata": {},
   "outputs": [],
   "source": [
    "from langchain_core.runnables import RunnableConfig\n",
    "\n",
    "config: RunnableConfig = {\"configurable\": {\"thread_id\": thread_id}}"
   ]
  },
  {
   "cell_type": "code",
   "execution_count": 34,
   "metadata": {},
   "outputs": [
    {
     "name": "stdout",
     "output_type": "stream",
     "text": [
      "================================\u001b[1m Human Message \u001b[0m=================================\n",
      "\n",
      "I want you to create a todo for go for a shopping\n"
     ]
    }
   ],
   "source": [
    "from langchain_core.messages import HumanMessage\n",
    "my_message = HumanMessage(content=\"I want you to create a todo for go for a shopping\")\n",
    "\n",
    "\n",
    "for event in compiled_graph.stream(my_message, config=config, stream_mode=\"values\"):\n",
    "    event[-1].pretty_print()"
   ]
  },
  {
   "cell_type": "code",
   "execution_count": 40,
   "metadata": {},
   "outputs": [
    {
     "name": "stdout",
     "output_type": "stream",
     "text": [
      "================================\u001b[1m Human Message \u001b[0m=================================\n",
      "\n",
      "I want you to create a todo for go for a shopping\n",
      "================================\u001b[1m Human Message \u001b[0m=================================\n",
      "\n",
      "Please create for the buying a BMW 320\n",
      "================================\u001b[1m Human Message \u001b[0m=================================\n",
      "\n",
      "Please create for the buying a BMW 320\n",
      "================================\u001b[1m Human Message \u001b[0m=================================\n",
      "\n",
      "Please create for the buying a BMW 320\n"
     ]
    }
   ],
   "source": [
    "state = compiled_graph.get_state(config=config)\n",
    "\n",
    "for s in state.values:\n",
    "    s.pretty_print()\n"
   ]
  },
  {
   "cell_type": "code",
   "execution_count": 39,
   "metadata": {},
   "outputs": [
    {
     "data": {
      "text/plain": [
       "{'configurable': {'thread_id': 'TodoistBot-1-2025-03-08',\n",
       "  'checkpoint_ns': '',\n",
       "  'checkpoint_id': '1effc10c-7f24-6360-8003-646bc7d577a1'}}"
      ]
     },
     "execution_count": 39,
     "metadata": {},
     "output_type": "execute_result"
    }
   ],
   "source": [
    "compiled_graph.update_state(config=config, values=[HumanMessage(content=\"Please create for the buying a BMW 320\")])"
   ]
  },
  {
   "cell_type": "code",
   "execution_count": null,
   "metadata": {},
   "outputs": [],
   "source": []
  },
  {
   "cell_type": "code",
   "execution_count": 42,
   "metadata": {},
   "outputs": [
    {
     "name": "stdout",
     "output_type": "stream",
     "text": [
      "=================================\u001b[1m Tool Message \u001b[0m=================================\n",
      "Name: create_todo\n",
      "\n",
      "id=10 title='buying a BMW 320' completed=False\n",
      "==================================\u001b[1m Ai Message \u001b[0m==================================\n",
      "\n",
      "Alright! I've created the todo for you. You need to 'buying a BMW 320'. This item is not marked as completed yet.\n"
     ]
    }
   ],
   "source": [
    "for event in compiled_graph.stream(None, config=config, stream_mode=\"values\"):\n",
    "    event[-1].pretty_print()"
   ]
  },
  {
   "cell_type": "code",
   "execution_count": null,
   "metadata": {},
   "outputs": [],
   "source": []
  }
 ],
 "metadata": {
  "kernelspec": {
   "display_name": ".venv",
   "language": "python",
   "name": "python3"
  },
  "language_info": {
   "codemirror_mode": {
    "name": "ipython",
    "version": 3
   },
   "file_extension": ".py",
   "mimetype": "text/x-python",
   "name": "python",
   "nbconvert_exporter": "python",
   "pygments_lexer": "ipython3",
   "version": "3.13.2"
  }
 },
 "nbformat": 4,
 "nbformat_minor": 2
}
