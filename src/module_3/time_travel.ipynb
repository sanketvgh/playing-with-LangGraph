{
 "cells": [
  {
   "cell_type": "code",
   "execution_count": 1,
   "metadata": {},
   "outputs": [],
   "source": [
    "import os\n",
    "from dotenv import load_dotenv\n",
    "load_dotenv()\n",
    "\n",
    "key = os.getenv(\"SUPABASE_KEY\")\n",
    "url = os.getenv(\"SUPABASE_URL\")"
   ]
  },
  {
   "cell_type": "code",
   "execution_count": 2,
   "metadata": {},
   "outputs": [],
   "source": [
    "from pydantic import BaseModel\n",
    "from typing import Optional\n",
    "\n",
    "class Todo(BaseModel):\n",
    "    id: int\n",
    "    title: Optional[str] = None\n",
    "    completed: bool = False"
   ]
  },
  {
   "cell_type": "code",
   "execution_count": 11,
   "metadata": {},
   "outputs": [],
   "source": [
    "from supabase import create_client, Client\n",
    "from langchain_core.tools import tool\n",
    "from typing import Union\n",
    "\n",
    "supabase: Client = create_client(url, key)\n",
    "\n",
    "@tool\n",
    "def create_todo(title: str) -> Union[Todo, None]:\n",
    "    \"\"\"\n",
    "    Create a new todo item\n",
    "    Args:\n",
    "        title: The title of the todo item\n",
    "    Returns:\n",
    "        The Todo object or None if the todo is not created\n",
    "    \"\"\"\n",
    "    response = supabase.table(\"todo\").insert({\"title\": title}).execute()\n",
    "    return Todo(**response.data[0])\n",
    "\n",
    "@tool\n",
    "def delete_by_id(id: int) -> bool:\n",
    "    \"\"\"\n",
    "    Delete a todo item by id\n",
    "    Args:\n",
    "        id: The id of the todo item\n",
    "    Returns:\n",
    "        True if the todo item is deleted, False otherwise\n",
    "    \"\"\"\n",
    "\n",
    "    response = supabase.table(\"todo\").delete().eq(\"id\", id).execute()\n",
    "    return response.data is not None\n",
    "\n",
    "tools = [create_todo, delete_by_id]"
   ]
  },
  {
   "cell_type": "code",
   "execution_count": 12,
   "metadata": {},
   "outputs": [],
   "source": [
    "from langchain_ollama import ChatOllama\n",
    "\n",
    "\n",
    "llm = ChatOllama(model=\"qwen2\", base_url=\"http://localhost:11434\")\n",
    "llm_with_tools = llm.bind_tools(tools)"
   ]
  },
  {
   "cell_type": "code",
   "execution_count": 14,
   "metadata": {},
   "outputs": [],
   "source": [
    "from langgraph.graph.message import MessageGraph\n",
    "from langgraph.prebuilt import ToolNode, tools_condition\n",
    "from langgraph.checkpoint.memory import MemorySaver\n",
    "from langchain_core.messages import SystemMessage\n",
    "\n",
    "system_message = [SystemMessage(content=\"Your name is Todoist bot. You can create, delete and list todos. your response should be fun and engaging\")]\n",
    "\n",
    "builder = MessageGraph()\n",
    "\n",
    "builder.add_node(\"ai\", lambda state: llm_with_tools.invoke(system_message + state))\n",
    "builder.add_node(\"tools\", ToolNode(tools))\n",
    "\n",
    "builder.set_entry_point(\"ai\")\n",
    "builder.add_conditional_edges('ai', tools_condition)\n",
    "builder.add_edge('tools', 'ai')\n",
    "\n",
    "memory = MemorySaver()\n",
    "compiled_graph = builder.compile(checkpointer=memory)"
   ]
  },
  {
   "cell_type": "code",
   "execution_count": 15,
   "metadata": {},
   "outputs": [
    {
     "data": {
      "image/png": "[encoded data removed]",
      "text/plain": [
       "<IPython.core.display.Image object>"
      ]
     },
     "metadata": {},
     "output_type": "display_data"
    }
   ],
   "source": [
    "from IPython.display import Image\n",
    "\n",
    "display(Image(compiled_graph.get_graph(xray=True).draw_mermaid_png()))"
   ]
  },
  {
   "cell_type": "code",
   "execution_count": 16,
   "metadata": {},
   "outputs": [],
   "source": [
    "from time import strftime\n",
    "thread_id = strftime(f\"timetravel-{strftime('%Y-%m-%d')}\")"
   ]
  },
  {
   "cell_type": "code",
   "execution_count": 17,
   "metadata": {},
   "outputs": [],
   "source": [
    "from langchain_core.runnables import RunnableConfig\n",
    "\n",
    "config: RunnableConfig = {\"configurable\": {\"thread_id\": thread_id}}"
   ]
  },
  {
   "cell_type": "code",
   "execution_count": 18,
   "metadata": {},
   "outputs": [
    {
     "name": "stdout",
     "output_type": "stream",
     "text": [
      "================================\u001b[1m Human Message \u001b[0m=================================\n",
      "\n",
      "I want to time travel to 2025-03-08\n",
      "==================================\u001b[1m Ai Message \u001b[0m==================================\n",
      "Tool Calls:\n",
      "  create_todo (d935252b-e72f-4da9-b225-74a9300fd702)\n",
      " Call ID: d935252b-e72f-4da9-b225-74a9300fd702\n",
      "  Args:\n",
      "    title: Plan special event for the future\n",
      "=================================\u001b[1m Tool Message \u001b[0m=================================\n",
      "Name: create_todo\n",
      "\n",
      "id=11 title='Plan special event for the future' completed=False\n",
      "==================================\u001b[1m Ai Message \u001b[0m==================================\n",
      "\n",
      "You've successfully created a todo! You need to plan a special event on 2025-03-08. It's quite futuristic, don't forget to check back then! \n",
      "\n",
      "Here is your reminder: {\"id\":11, \"title\":\"Plan special event for the future\", \"completed\":false}.\n"
     ]
    }
   ],
   "source": [
    "from langchain_core.messages import HumanMessage\n",
    "my_message = HumanMessage(content=\"I want to time travel to 2025-03-08\")\n",
    "\n",
    "\n",
    "for event in compiled_graph.stream(my_message, config=config, stream_mode=\"values\"):\n",
    "    event[-1].pretty_print()"
   ]
  },
  {
   "cell_type": "code",
   "execution_count": 19,
   "metadata": {},
   "outputs": [
    {
     "name": "stdout",
     "output_type": "stream",
     "text": [
      "================================\u001b[1m Human Message \u001b[0m=================================\n",
      "\n",
      "I want to time travel to 2025-03-08\n",
      "==================================\u001b[1m Ai Message \u001b[0m==================================\n",
      "Tool Calls:\n",
      "  create_todo (d935252b-e72f-4da9-b225-74a9300fd702)\n",
      " Call ID: d935252b-e72f-4da9-b225-74a9300fd702\n",
      "  Args:\n",
      "    title: Plan special event for the future\n",
      "=================================\u001b[1m Tool Message \u001b[0m=================================\n",
      "Name: create_todo\n",
      "\n",
      "id=11 title='Plan special event for the future' completed=False\n",
      "==================================\u001b[1m Ai Message \u001b[0m==================================\n",
      "\n",
      "You've successfully created a todo! You need to plan a special event on 2025-03-08. It's quite futuristic, don't forget to check back then! \n",
      "\n",
      "Here is your reminder: {\"id\":11, \"title\":\"Plan special event for the future\", \"completed\":false}.\n"
     ]
    }
   ],
   "source": [
    "state = compiled_graph.get_state(config=config)\n",
    "\n",
    "for s in state.values:\n",
    "    s.pretty_print()\n"
   ]
  },
  {
   "cell_type": "code",
   "execution_count": 66,
   "metadata": {},
   "outputs": [],
   "source": [
    "history = list(compiled_graph.get_state_history(config=config))\n",
    "\n",
    "\n",
    "\n",
    "to_reply  = history[-3]\n"
   ]
  },
  {
   "cell_type": "code",
   "execution_count": 67,
   "metadata": {},
   "outputs": [
    {
     "data": {
      "text/plain": [
       "[HumanMessage(content='I want to time travel to 2025-03-08', additional_kwargs={}, response_metadata={}, id='1318559a-dc94-4836-b160-1249a266cb7a'),\n",
       " AIMessage(content='', additional_kwargs={}, response_metadata={'model': 'qwen2', 'created_at': '2025-03-08T12:29:45.1306885Z', 'done': True, 'done_reason': 'stop', 'total_duration': 23882794100, 'load_duration': 8560071300, 'prompt_eval_count': 277, 'prompt_eval_duration': 1110000000, 'eval_count': 121, 'eval_duration': 13319000000, 'message': {'role': 'assistant', 'content': '', 'images': None, 'tool_calls': None}}, id='run-c021aefa-d9cb-467e-b5fa-c677bac65515-0', tool_calls=[{'name': 'create_todo', 'args': {'title': 'Plan special event for the future'}, 'id': 'd935252b-e72f-4da9-b225-74a9300fd702', 'type': 'tool_call'}], usage_metadata={'input_tokens': 277, 'output_tokens': 121, 'total_tokens': 398})]"
      ]
     },
     "execution_count": 67,
     "metadata": {},
     "output_type": "execute_result"
    }
   ],
   "source": [
    "to_reply.values"
   ]
  },
  {
   "cell_type": "code",
   "execution_count": 68,
   "metadata": {},
   "outputs": [
    {
     "data": {
      "text/plain": [
       "{'configurable': {'thread_id': 'timetravel-2025-03-08',\n",
       "  'checkpoint_ns': '',\n",
       "  'checkpoint_id': '1effc190-47d0-6a14-8001-b123adc99ac4'}}"
      ]
     },
     "execution_count": 68,
     "metadata": {},
     "output_type": "execute_result"
    }
   ],
   "source": [
    "to_reply.config"
   ]
  },
  {
   "cell_type": "code",
   "execution_count": 70,
   "metadata": {},
   "outputs": [
    {
     "name": "stdout",
     "output_type": "stream",
     "text": [
      "==================================\u001b[1m Ai Message \u001b[0m==================================\n",
      "Tool Calls:\n",
      "  create_todo (d935252b-e72f-4da9-b225-74a9300fd702)\n",
      " Call ID: d935252b-e72f-4da9-b225-74a9300fd702\n",
      "  Args:\n",
      "    title: Plan special event for the future\n",
      "=================================\u001b[1m Tool Message \u001b[0m=================================\n",
      "Name: create_todo\n",
      "\n",
      "id=14 title='Plan special event for the future' completed=False\n",
      "==================================\u001b[1m Ai Message \u001b[0m==================================\n",
      "\n",
      "Your todo has been created! You need to plan a special event for 2025-03-08. Don't forget to mark it as completed once you're done with your preparations. Let's make time travel history together! 🚀✨\n"
     ]
    }
   ],
   "source": [
    "for event in compiled_graph.stream(None, config=to_reply.config, stream_mode=\"values\"):\n",
    "    event[-1].pretty_print()\n"
   ]
  },
  {
   "cell_type": "code",
   "execution_count": 75,
   "metadata": {},
   "outputs": [
    {
     "data": {
      "text/plain": [
       "[HumanMessage(content='I want to time travel to 2025-03-08', additional_kwargs={}, response_metadata={}, id='1318559a-dc94-4836-b160-1249a266cb7a'),\n",
       " AIMessage(content='', additional_kwargs={}, response_metadata={'model': 'qwen2', 'created_at': '2025-03-08T12:45:42.6308206Z', 'done': True, 'done_reason': 'stop', 'total_duration': 17372004900, 'load_duration': 6031599500, 'prompt_eval_count': 277, 'prompt_eval_duration': 722000000, 'eval_count': 103, 'eval_duration': 9802000000, 'message': {'role': 'assistant', 'content': '', 'images': None, 'tool_calls': None}}, id='run-bfb48074-c509-4cbf-b13e-db7fb6ecaba3-0', tool_calls=[{'name': 'create_todo', 'args': {'title': 'Schedule a meeting with Mr. Smith on 2025-03-08'}, 'id': 'f896ea7f-39a3-4a2b-9f13-03404a8513d1', 'type': 'tool_call'}], usage_metadata={'input_tokens': 277, 'output_tokens': 103, 'total_tokens': 380}),\n",
       " ToolMessage(content=\"id=12 title='Schedule a meeting with Mr. Smith on 2025-03-08' completed=False\", name='create_todo', id='70ec92f4-12bb-4227-b734-6d560ef50327', tool_call_id='f896ea7f-39a3-4a2b-9f13-03404a8513d1'),\n",
       " AIMessage(content='You have successfully created the todo: \"Schedule a meeting with Mr. Smith on 2025-03-08\". It\\'s not yet marked as completed, ready to be added to your schedule!', additional_kwargs={}, response_metadata={'model': 'qwen2', 'created_at': '2025-03-08T12:45:47.6501075Z', 'done': True, 'done_reason': 'stop', 'total_duration': 4321251400, 'load_duration': 153750700, 'prompt_eval_count': 365, 'prompt_eval_duration': 392000000, 'eval_count': 45, 'eval_duration': 3748000000, 'message': {'role': 'assistant', 'content': 'You have successfully created the todo: \"Schedule a meeting with Mr. Smith on 2025-03-08\". It\\'s not yet marked as completed, ready to be added to your schedule!', 'images': None, 'tool_calls': None}}, id='run-06fce430-c67a-4c8a-ae57-94d4f2195017-0', usage_metadata={'input_tokens': 365, 'output_tokens': 45, 'total_tokens': 410})]"
      ]
     },
     "execution_count": 75,
     "metadata": {},
     "output_type": "execute_result"
    }
   ],
   "source": [
    "history[0].values\n"
   ]
  },
  {
   "cell_type": "code",
   "execution_count": 77,
   "metadata": {},
   "outputs": [
    {
     "data": {
      "text/plain": [
       "[HumanMessage(content='I want to time travel to 2025-03-08', additional_kwargs={}, response_metadata={}, id='1318559a-dc94-4836-b160-1249a266cb7a'),\n",
       " AIMessage(content='', additional_kwargs={}, response_metadata={'model': 'qwen2', 'created_at': '2025-03-08T12:29:45.1306885Z', 'done': True, 'done_reason': 'stop', 'total_duration': 23882794100, 'load_duration': 8560071300, 'prompt_eval_count': 277, 'prompt_eval_duration': 1110000000, 'eval_count': 121, 'eval_duration': 13319000000, 'message': {'role': 'assistant', 'content': '', 'images': None, 'tool_calls': None}}, id='run-c021aefa-d9cb-467e-b5fa-c677bac65515-0', tool_calls=[{'name': 'create_todo', 'args': {'title': 'Plan special event for the future'}, 'id': 'd935252b-e72f-4da9-b225-74a9300fd702', 'type': 'tool_call'}], usage_metadata={'input_tokens': 277, 'output_tokens': 121, 'total_tokens': 398}),\n",
       " ToolMessage(content=\"id=14 title='Plan special event for the future' completed=False\", name='create_todo', id='5c3fd8e8-9417-4163-92f9-4b757bbe8932', tool_call_id='d935252b-e72f-4da9-b225-74a9300fd702'),\n",
       " AIMessage(content=\"Your todo has been created! You need to plan a special event for 2025-03-08. Don't forget to mark it as completed once you're done with your preparations. Let's make time travel history together! 🚀✨\", additional_kwargs={}, response_metadata={'model': 'qwen2', 'created_at': '2025-03-08T12:48:33.7626757Z', 'done': True, 'done_reason': 'stop', 'total_duration': 7033213000, 'load_duration': 57012500, 'prompt_eval_count': 339, 'prompt_eval_duration': 1430000000, 'eval_count': 55, 'eval_duration': 5522000000, 'message': {'role': 'assistant', 'content': \"Your todo has been created! You need to plan a special event for 2025-03-08. Don't forget to mark it as completed once you're done with your preparations. Let's make time travel history together! 🚀✨\", 'images': None, 'tool_calls': None}}, id='run-5af11b15-8cd0-4ba8-90f7-5b322a872fe5-0', usage_metadata={'input_tokens': 339, 'output_tokens': 55, 'total_tokens': 394})]"
      ]
     },
     "execution_count": 77,
     "metadata": {},
     "output_type": "execute_result"
    }
   ],
   "source": [
    "compiled_graph.get_state(config=config).values"
   ]
  }
 ],
 "metadata": {
  "kernelspec": {
   "display_name": ".venv",
   "language": "python",
   "name": "python3"
  },
  "language_info": {
   "codemirror_mode": {
    "name": "ipython",
    "version": 3
   },
   "file_extension": ".py",
   "mimetype": "text/x-python",
   "name": "python",
   "nbconvert_exporter": "python",
   "pygments_lexer": "ipython3",
   "version": "3.13.2"
  }
 },
 "nbformat": 4,
 "nbformat_minor": 2
}
